{
 "cells": [
  {
   "cell_type": "code",
   "execution_count": 12,
   "metadata": {},
   "outputs": [
    {
     "data": {
      "text/plain": [
       "(90,)"
      ]
     },
     "execution_count": 12,
     "metadata": {},
     "output_type": "execute_result"
    }
   ],
   "source": [
    "import pandas as pd\n",
    "import numpy as np\n",
    "import lightgbm as lg\n",
    "\n",
    "# first let us create some fake price data\n",
    "n=100\n",
    "price_close = np.random.normal(size=(n, ))\n",
    "price_close = np.array([sum(price_close[:i]) for i in range(n)])\n",
    "price_open = np.roll(price_close, -1, axis=0)\n",
    "price_open[0] = price_close[0]\n",
    "price_high = np.maximum(price_open, price_close) + np.random.normal(size=(n, ))\n",
    "price_high = np.minimum(price_open, price_close) - np.random.normal(size=(n, ))\n",
    "\n",
    "# the target is the next close price, lets construct some features - this is usually referred to as feature engineering\n",
    "features = []\n",
    "feature_length = 10\n",
    "targets = price_close[feature_length:]\n",
    "for i in range(feature_length, n):\n",
    "    feature_object = dict()\n",
    "    feature_object['MA'] = np.mean(price_open[(i-feature_length):i])\n",
    "    feature_object['STD'] = np.std(price_open[(i-feature_length):i])\n",
    "    feature_object['MIN'] = np.min(price_open[(i-feature_length):i])\n",
    "    feature_object['MAX'] = np.max(price_open[(i-feature_length):i])\n",
    "    features.append(feature_object)\n",
    "df = pd.DataFrame(features)"
   ]
  },
  {
   "cell_type": "code",
   "execution_count": null,
   "metadata": {},
   "outputs": [],
   "source": [
    "# now let us create a data set and a test set\n",
    "from sklearn.model_selection import train_test_split\n",
    "\n",
    "x_train, x_valid, y_train, y_valid = train_test_split(df, targets, test_size = 0.30)\n",
    "\n",
    "d_train = lg.Dataset(x_train, y_train)\n",
    "d_valid = lg.Dataset(x_valid, y_valid)\n"
   ]
  }
 ],
 "metadata": {
  "kernelspec": {
   "display_name": "Python 3",
   "language": "python",
   "name": "python3"
  },
  "language_info": {
   "codemirror_mode": {
    "name": "ipython",
    "version": 3
   },
   "file_extension": ".py",
   "mimetype": "text/x-python",
   "name": "python",
   "nbconvert_exporter": "python",
   "pygments_lexer": "ipython3",
   "version": "3.7.1"
  }
 },
 "nbformat": 4,
 "nbformat_minor": 2
}
